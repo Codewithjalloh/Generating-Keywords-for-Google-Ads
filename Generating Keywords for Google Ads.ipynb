{
 "cells": [
  {
   "cell_type": "code",
   "execution_count": 1,
   "metadata": {},
   "outputs": [
    {
     "name": "stdout",
     "output_type": "stream",
     "text": [
      "['buy', 'discount', 'promotion', 'cheap', 'offer', 'purchase', 'sale']\n"
     ]
    }
   ],
   "source": [
    "# List of words to pair with products\n",
    "words = ['buy', 'discount', 'promotion', 'cheap', 'offer', 'purchase', 'sale']\n",
    "# Print list of words\n",
    "print(words)"
   ]
  },
  {
   "cell_type": "code",
   "execution_count": 2,
   "metadata": {},
   "outputs": [
    {
     "name": "stdout",
     "output_type": "stream",
     "text": [
      "[['sofas', 'sofas buy'],\n",
      " ['sofas', 'buy sofas'],\n",
      " ['sofas', 'sofas discount'],\n",
      " ['sofas', 'discount sofas'],\n",
      " ['sofas', 'sofas promotion'],\n",
      " ['sofas', 'promotion sofas'],\n",
      " ['sofas', 'sofas cheap'],\n",
      " ['sofas', 'cheap sofas'],\n",
      " ['sofas', 'sofas offer'],\n",
      " ['sofas', 'offer sofas'],\n",
      " ['sofas', 'sofas purchase'],\n",
      " ['sofas', 'purchase sofas'],\n",
      " ['sofas', 'sofas sale'],\n",
      " ['sofas', 'sale sofas'],\n",
      " ['convertible sofas', 'convertible sofas buy'],\n",
      " ['convertible sofas', 'buy convertible sofas'],\n",
      " ['convertible sofas', 'convertible sofas discount'],\n",
      " ['convertible sofas', 'discount convertible sofas'],\n",
      " ['convertible sofas', 'convertible sofas promotion'],\n",
      " ['convertible sofas', 'promotion convertible sofas'],\n",
      " ['convertible sofas', 'convertible sofas cheap'],\n",
      " ['convertible sofas', 'cheap convertible sofas'],\n",
      " ['convertible sofas', 'convertible sofas offer'],\n",
      " ['convertible sofas', 'offer convertible sofas'],\n",
      " ['convertible sofas', 'convertible sofas purchase'],\n",
      " ['convertible sofas', 'purchase convertible sofas'],\n",
      " ['convertible sofas', 'convertible sofas sale'],\n",
      " ['convertible sofas', 'sale convertible sofas'],\n",
      " ['love seats', 'love seats buy'],\n",
      " ['love seats', 'buy love seats'],\n",
      " ['love seats', 'love seats discount'],\n",
      " ['love seats', 'discount love seats'],\n",
      " ['love seats', 'love seats promotion'],\n",
      " ['love seats', 'promotion love seats'],\n",
      " ['love seats', 'love seats cheap'],\n",
      " ['love seats', 'cheap love seats'],\n",
      " ['love seats', 'love seats offer'],\n",
      " ['love seats', 'offer love seats'],\n",
      " ['love seats', 'love seats purchase'],\n",
      " ['love seats', 'purchase love seats'],\n",
      " ['love seats', 'love seats sale'],\n",
      " ['love seats', 'sale love seats'],\n",
      " ['recliners', 'recliners buy'],\n",
      " ['recliners', 'buy recliners'],\n",
      " ['recliners', 'recliners discount'],\n",
      " ['recliners', 'discount recliners'],\n",
      " ['recliners', 'recliners promotion'],\n",
      " ['recliners', 'promotion recliners'],\n",
      " ['recliners', 'recliners cheap'],\n",
      " ['recliners', 'cheap recliners'],\n",
      " ['recliners', 'recliners offer'],\n",
      " ['recliners', 'offer recliners'],\n",
      " ['recliners', 'recliners purchase'],\n",
      " ['recliners', 'purchase recliners'],\n",
      " ['recliners', 'recliners sale'],\n",
      " ['recliners', 'sale recliners'],\n",
      " ['sofa beds', 'sofa beds buy'],\n",
      " ['sofa beds', 'buy sofa beds'],\n",
      " ['sofa beds', 'sofa beds discount'],\n",
      " ['sofa beds', 'discount sofa beds'],\n",
      " ['sofa beds', 'sofa beds promotion'],\n",
      " ['sofa beds', 'promotion sofa beds'],\n",
      " ['sofa beds', 'sofa beds cheap'],\n",
      " ['sofa beds', 'cheap sofa beds'],\n",
      " ['sofa beds', 'sofa beds offer'],\n",
      " ['sofa beds', 'offer sofa beds'],\n",
      " ['sofa beds', 'sofa beds purchase'],\n",
      " ['sofa beds', 'purchase sofa beds'],\n",
      " ['sofa beds', 'sofa beds sale'],\n",
      " ['sofa beds', 'sale sofa beds']]\n"
     ]
    }
   ],
   "source": [
    "products = ['sofas', 'convertible sofas', 'love seats', 'recliners', 'sofa beds']\n",
    "\n",
    "# Create an empty list\n",
    "keywords_list = []\n",
    "\n",
    "# Loop through products\n",
    "for product in products:\n",
    "    # Loop through words\n",
    "    for word in words:\n",
    "        # Append combinations\n",
    "        keywords_list.append([product, product + ' ' + word])\n",
    "        keywords_list.append([product, word + ' ' + product])\n",
    "        \n",
    "# Inspect keyword list\n",
    "from pprint import pprint\n",
    "pprint(keywords_list)"
   ]
  },
  {
   "cell_type": "code",
   "execution_count": 3,
   "metadata": {},
   "outputs": [
    {
     "name": "stdout",
     "output_type": "stream",
     "text": [
      "       0                1\n",
      "0  sofas        sofas buy\n",
      "1  sofas        buy sofas\n",
      "2  sofas   sofas discount\n",
      "3  sofas   discount sofas\n",
      "4  sofas  sofas promotion\n"
     ]
    }
   ],
   "source": [
    "# Load library\n",
    "import pandas as pd\n",
    "\n",
    "# Create a DataFrame from list\n",
    "keywords_df = pd.DataFrame.from_records(keywords_list)\n",
    "\n",
    "# Print the keywords DataFrame to explore it\n",
    "print(keywords_df.head())"
   ]
  },
  {
   "cell_type": "code",
   "execution_count": 4,
   "metadata": {},
   "outputs": [],
   "source": [
    "# Rename the columns of the DataFrame\n",
    "keywords_df.columns = [\"Ad Group\", \"Keyword\"] "
   ]
  },
  {
   "cell_type": "code",
   "execution_count": 5,
   "metadata": {},
   "outputs": [],
   "source": [
    "# Add a campaign column\n",
    "keywords_df[\"Campaign\"] = \"SEM_Sofas\""
   ]
  },
  {
   "cell_type": "code",
   "execution_count": 6,
   "metadata": {},
   "outputs": [],
   "source": [
    "# Add a criterion type column\n",
    "keywords_df[\"Criterion Type\"] = \"Exact\""
   ]
  },
  {
   "cell_type": "code",
   "execution_count": 7,
   "metadata": {},
   "outputs": [],
   "source": [
    "# Make a copy of the keywords DataFrame\n",
    "keywords_phrase = keywords_df.copy()\n",
    "\n",
    "# Change criterion type match to phrase\n",
    "keywords_phrase[\"Criterion Type\"] = \"Phrase\"\n",
    "\n",
    "# Append the DataFrames\n",
    "keywords_df_final = keywords_df.append(keywords_phrase)"
   ]
  },
  {
   "cell_type": "code",
   "execution_count": 8,
   "metadata": {},
   "outputs": [
    {
     "name": "stdout",
     "output_type": "stream",
     "text": [
      "Ad Group           Criterion Type\n",
      "convertible sofas  Exact             14\n",
      "                   Phrase            14\n",
      "love seats         Exact             14\n",
      "                   Phrase            14\n",
      "recliners          Exact             14\n",
      "                   Phrase            14\n",
      "sofa beds          Exact             14\n",
      "                   Phrase            14\n",
      "sofas              Exact             14\n",
      "                   Phrase            14\n",
      "Name: Keyword, dtype: int64\n"
     ]
    }
   ],
   "source": [
    "# Save the final keywords to a CSV file\n",
    "keywords_df_final.to_csv(\"keywords.csv\", index=False)\n",
    "\n",
    "# View a summary of our campaign work\n",
    "summary = keywords_df_final.groupby(['Ad Group', 'Criterion Type'])['Keyword'].count()\n",
    "print(summary)"
   ]
  },
  {
   "cell_type": "code",
   "execution_count": null,
   "metadata": {},
   "outputs": [],
   "source": []
  }
 ],
 "metadata": {
  "kernelspec": {
   "display_name": "Python 3",
   "language": "python",
   "name": "python3"
  },
  "language_info": {
   "codemirror_mode": {
    "name": "ipython",
    "version": 3
   },
   "file_extension": ".py",
   "mimetype": "text/x-python",
   "name": "python",
   "nbconvert_exporter": "python",
   "pygments_lexer": "ipython3",
   "version": "3.7.0"
  }
 },
 "nbformat": 4,
 "nbformat_minor": 2
}
